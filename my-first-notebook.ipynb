{
 "cells": [
  {
   "cell_type": "code",
   "execution_count": 1,
   "id": "1a61c06f",
   "metadata": {
    "_cell_guid": "b1076dfc-b9ad-4769-8c92-a6c4dae69d19",
    "_uuid": "8f2839f25d086af736a60e9eeb907d3b93b6e0e5",
    "execution": {
     "iopub.execute_input": "2023-06-09T12:16:37.817246Z",
     "iopub.status.busy": "2023-06-09T12:16:37.816729Z",
     "iopub.status.idle": "2023-06-09T12:16:37.835529Z",
     "shell.execute_reply": "2023-06-09T12:16:37.834337Z"
    },
    "papermill": {
     "duration": 0.027839,
     "end_time": "2023-06-09T12:16:37.838491",
     "exception": false,
     "start_time": "2023-06-09T12:16:37.810652",
     "status": "completed"
    },
    "tags": []
   },
   "outputs": [
    {
     "name": "stdout",
     "output_type": "stream",
     "text": [
      "/kaggle/input/titanic/train.csv\n",
      "/kaggle/input/titanic/test.csv\n",
      "/kaggle/input/titanic/gender_submission.csv\n"
     ]
    }
   ],
   "source": [
    "# This Python 3 environment comes with many helpful analytics libraries installed\n",
    "# It is defined by the kaggle/python Docker image: https://github.com/kaggle/docker-python\n",
    "# For example, here's several helpful packages to load\n",
    "\n",
    "import numpy as np # linear algebra\n",
    "import pandas as pd # data processing, CSV file I/O (e.g. pd.read_csv)\n",
    "\n",
    "# Input data files are available in the read-only \"../input/\" directory\n",
    "# For example, running this (by clicking run or pressing Shift+Enter) will list all files under the input directory\n",
    "\n",
    "import os\n",
    "for dirname, _, filenames in os.walk('/kaggle/input'):\n",
    "    for filename in filenames:\n",
    "        print(os.path.join(dirname, filename))\n",
    "\n",
    "# You can write up to 20GB to the current directory (/kaggle/working/) that gets preserved as output when you create a version using \"Save & Run All\" \n",
    "# You can also write temporary files to /kaggle/temp/, but they won't be saved outside of the current session"
   ]
  },
  {
   "cell_type": "code",
   "execution_count": 2,
   "id": "f3fe3bf8",
   "metadata": {
    "execution": {
     "iopub.execute_input": "2023-06-09T12:16:37.848059Z",
     "iopub.status.busy": "2023-06-09T12:16:37.847677Z",
     "iopub.status.idle": "2023-06-09T12:16:37.852970Z",
     "shell.execute_reply": "2023-06-09T12:16:37.851702Z"
    },
    "papermill": {
     "duration": 0.013584,
     "end_time": "2023-06-09T12:16:37.856130",
     "exception": false,
     "start_time": "2023-06-09T12:16:37.842546",
     "status": "completed"
    },
    "tags": []
   },
   "outputs": [
    {
     "name": "stdout",
     "output_type": "stream",
     "text": [
      "3.10.10 | packaged by conda-forge | (main, Mar 24 2023, 20:08:06) [GCC 11.3.0]\n"
     ]
    }
   ],
   "source": [
    "import sys\n",
    "print(sys.version)"
   ]
  },
  {
   "cell_type": "code",
   "execution_count": 3,
   "id": "ba97f25e",
   "metadata": {
    "execution": {
     "iopub.execute_input": "2023-06-09T12:16:37.865452Z",
     "iopub.status.busy": "2023-06-09T12:16:37.864880Z",
     "iopub.status.idle": "2023-06-09T12:16:41.284102Z",
     "shell.execute_reply": "2023-06-09T12:16:41.282541Z"
    },
    "papermill": {
     "duration": 3.427379,
     "end_time": "2023-06-09T12:16:41.287199",
     "exception": false,
     "start_time": "2023-06-09T12:16:37.859820",
     "status": "completed"
    },
    "tags": []
   },
   "outputs": [
    {
     "name": "stdout",
     "output_type": "stream",
     "text": [
      "numpy: 1.23.5\n",
      "pandas: 1.5.3\n",
      "seaborn: 0.12.2\n",
      "matplotlib: 3.7.1\n",
      "sklearn: 1.2.2\n",
      "scipy: 1.10.1\n",
      "missingno: 0.5.2\n",
      "lightgbm: 3.3.2\n",
      "xgboost: 1.7.5\n"
     ]
    }
   ],
   "source": [
    "#chapter 6 ~ 9\n",
    "import numpy, pandas, seaborn, matplotlib, sklearn, scipy, missingno, lightgbm, xgboost\n",
    "lib = [numpy, pandas, seaborn, matplotlib, sklearn, scipy, missingno, lightgbm, xgboost]\n",
    "\n",
    "for i in lib:\n",
    "    name = i.__name__\n",
    "    version = i.__version__\n",
    "    print(f'{name}: {version}')"
   ]
  },
  {
   "cell_type": "code",
   "execution_count": 4,
   "id": "6bcf1f8d",
   "metadata": {
    "execution": {
     "iopub.execute_input": "2023-06-09T12:16:41.296705Z",
     "iopub.status.busy": "2023-06-09T12:16:41.296264Z",
     "iopub.status.idle": "2023-06-09T12:16:48.574003Z",
     "shell.execute_reply": "2023-06-09T12:16:48.573008Z"
    },
    "papermill": {
     "duration": 7.285524,
     "end_time": "2023-06-09T12:16:48.576604",
     "exception": false,
     "start_time": "2023-06-09T12:16:41.291080",
     "status": "completed"
    },
    "tags": []
   },
   "outputs": [
    {
     "name": "stdout",
     "output_type": "stream",
     "text": [
      "numpy: 1.23.5\n",
      "pandas: 1.5.3\n",
      "matplotlib: 3.7.1\n",
      "sklearn: 1.2.2\n",
      "torch: 2.0.0+cpu\n",
      "torchvision: 0.15.1+cpu\n",
      "cv2: 4.5.4\n",
      "albumentations: 1.3.0\n",
      "transformers: 4.29.2\n"
     ]
    }
   ],
   "source": [
    "#chapter 11~13\n",
    "import numpy, pandas, matplotlib, sklearn, torch, torchvision, cv2, albumentations, transformers\n",
    "lib = [numpy, pandas, matplotlib, sklearn, torch, torchvision, cv2, albumentations, transformers]\n",
    "\n",
    "for i in lib:\n",
    "    name = i.__name__\n",
    "    version = i.__version__\n",
    "    print(f'{name}: {version}')"
   ]
  },
  {
   "cell_type": "code",
   "execution_count": 5,
   "id": "7ba60fb1",
   "metadata": {
    "execution": {
     "iopub.execute_input": "2023-06-09T12:16:48.586424Z",
     "iopub.status.busy": "2023-06-09T12:16:48.585563Z",
     "iopub.status.idle": "2023-06-09T12:16:48.635271Z",
     "shell.execute_reply": "2023-06-09T12:16:48.633051Z"
    },
    "papermill": {
     "duration": 0.057935,
     "end_time": "2023-06-09T12:16:48.638288",
     "exception": false,
     "start_time": "2023-06-09T12:16:48.580353",
     "status": "completed"
    },
    "tags": []
   },
   "outputs": [
    {
     "data": {
      "text/html": [
       "<div>\n",
       "<style scoped>\n",
       "    .dataframe tbody tr th:only-of-type {\n",
       "        vertical-align: middle;\n",
       "    }\n",
       "\n",
       "    .dataframe tbody tr th {\n",
       "        vertical-align: top;\n",
       "    }\n",
       "\n",
       "    .dataframe thead th {\n",
       "        text-align: right;\n",
       "    }\n",
       "</style>\n",
       "<table border=\"1\" class=\"dataframe\">\n",
       "  <thead>\n",
       "    <tr style=\"text-align: right;\">\n",
       "      <th></th>\n",
       "      <th>PassengerId</th>\n",
       "      <th>Survived</th>\n",
       "    </tr>\n",
       "  </thead>\n",
       "  <tbody>\n",
       "    <tr>\n",
       "      <th>0</th>\n",
       "      <td>892</td>\n",
       "      <td>0</td>\n",
       "    </tr>\n",
       "    <tr>\n",
       "      <th>1</th>\n",
       "      <td>893</td>\n",
       "      <td>1</td>\n",
       "    </tr>\n",
       "    <tr>\n",
       "      <th>2</th>\n",
       "      <td>894</td>\n",
       "      <td>0</td>\n",
       "    </tr>\n",
       "    <tr>\n",
       "      <th>3</th>\n",
       "      <td>895</td>\n",
       "      <td>0</td>\n",
       "    </tr>\n",
       "    <tr>\n",
       "      <th>4</th>\n",
       "      <td>896</td>\n",
       "      <td>1</td>\n",
       "    </tr>\n",
       "    <tr>\n",
       "      <th>...</th>\n",
       "      <td>...</td>\n",
       "      <td>...</td>\n",
       "    </tr>\n",
       "    <tr>\n",
       "      <th>413</th>\n",
       "      <td>1305</td>\n",
       "      <td>0</td>\n",
       "    </tr>\n",
       "    <tr>\n",
       "      <th>414</th>\n",
       "      <td>1306</td>\n",
       "      <td>1</td>\n",
       "    </tr>\n",
       "    <tr>\n",
       "      <th>415</th>\n",
       "      <td>1307</td>\n",
       "      <td>0</td>\n",
       "    </tr>\n",
       "    <tr>\n",
       "      <th>416</th>\n",
       "      <td>1308</td>\n",
       "      <td>0</td>\n",
       "    </tr>\n",
       "    <tr>\n",
       "      <th>417</th>\n",
       "      <td>1309</td>\n",
       "      <td>0</td>\n",
       "    </tr>\n",
       "  </tbody>\n",
       "</table>\n",
       "<p>418 rows × 2 columns</p>\n",
       "</div>"
      ],
      "text/plain": [
       "     PassengerId  Survived\n",
       "0            892         0\n",
       "1            893         1\n",
       "2            894         0\n",
       "3            895         0\n",
       "4            896         1\n",
       "..           ...       ...\n",
       "413         1305         0\n",
       "414         1306         1\n",
       "415         1307         0\n",
       "416         1308         0\n",
       "417         1309         0\n",
       "\n",
       "[418 rows x 2 columns]"
      ]
     },
     "execution_count": 5,
     "metadata": {},
     "output_type": "execute_result"
    }
   ],
   "source": [
    "#submission test\n",
    "import pandas as pd\n",
    "\n",
    "submission = pd.read_csv('/kaggle/input/titanic/gender_submission.csv')\n",
    "submission\n"
   ]
  },
  {
   "cell_type": "code",
   "execution_count": 6,
   "id": "16278d43",
   "metadata": {
    "execution": {
     "iopub.execute_input": "2023-06-09T12:16:48.648606Z",
     "iopub.status.busy": "2023-06-09T12:16:48.648177Z",
     "iopub.status.idle": "2023-06-09T12:16:48.661903Z",
     "shell.execute_reply": "2023-06-09T12:16:48.660697Z"
    },
    "papermill": {
     "duration": 0.022071,
     "end_time": "2023-06-09T12:16:48.664823",
     "exception": false,
     "start_time": "2023-06-09T12:16:48.642752",
     "status": "completed"
    },
    "tags": []
   },
   "outputs": [],
   "source": [
    "submission.to_csv('submission.csv',index=False)"
   ]
  },
  {
   "cell_type": "code",
   "execution_count": null,
   "id": "929ccbe0",
   "metadata": {
    "papermill": {
     "duration": 0.003692,
     "end_time": "2023-06-09T12:16:48.672606",
     "exception": false,
     "start_time": "2023-06-09T12:16:48.668914",
     "status": "completed"
    },
    "tags": []
   },
   "outputs": [],
   "source": []
  }
 ],
 "metadata": {
  "kernelspec": {
   "display_name": "Python 3",
   "language": "python",
   "name": "python3"
  },
  "language_info": {
   "codemirror_mode": {
    "name": "ipython",
    "version": 3
   },
   "file_extension": ".py",
   "mimetype": "text/x-python",
   "name": "python",
   "nbconvert_exporter": "python",
   "pygments_lexer": "ipython3",
   "version": "3.10.10"
  },
  "papermill": {
   "default_parameters": {},
   "duration": 26.568995,
   "end_time": "2023-06-09T12:16:50.603267",
   "environment_variables": {},
   "exception": null,
   "input_path": "__notebook__.ipynb",
   "output_path": "__notebook__.ipynb",
   "parameters": {},
   "start_time": "2023-06-09T12:16:24.034272",
   "version": "2.4.0"
  }
 },
 "nbformat": 4,
 "nbformat_minor": 5
}
